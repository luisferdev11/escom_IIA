{
 "cells": [
  {
   "cell_type": "markdown",
   "metadata": {},
   "source": [
    "# Practica 1\n",
    "**Tecnologías de Lenguaje Natural**\n",
    "\n",
    "*Luis Fernando Rodríguez Domínguez*"
   ]
  },
  {
   "cell_type": "markdown",
   "metadata": {},
   "source": [
    "## Parte 1. Expresiones Regulares\n",
    "\n",
    "Para las cadenas de texto incluidas en el Anexo “A”, y únicamente para los numerales siguientes 1 a 5, identificar las líneas que cumplan con los siguientes:"
   ]
  },
  {
   "cell_type": "code",
   "execution_count": 4,
   "metadata": {},
   "outputs": [
    {
     "name": "stdout",
     "output_type": "stream",
     "text": [
      "Encabezado: ID:Amount:Category:Date:Description\n",
      "Número de registros: 30\n"
     ]
    }
   ],
   "source": [
    "import re\n",
    "\n",
    "# Función para leer el contenido del archivo \"AnexoA.txt\"\n",
    "def leer_archivo(ruta):\n",
    "    \"\"\"\n",
    "    Lee un archivo de texto y retorna una lista de líneas.\n",
    "    Se asume que la primera línea es el encabezado.\n",
    "    \"\"\"\n",
    "    with open(ruta, 'r', encoding='utf-8') as file:\n",
    "        lineas = file.read().splitlines()\n",
    "    return lineas\n",
    "\n",
    "ruta_archivo = 'AnexoA.txt'\n",
    "lineas = leer_archivo(ruta_archivo)\n",
    "\n",
    "# Separamos el encabezado de las líneas de datos\n",
    "encabezado = lineas[0]\n",
    "datos = lineas[1:]\n",
    "print(\"Encabezado:\", encabezado)\n",
    "print(\"Número de registros:\", len(datos))"
   ]
  },
  {
   "cell_type": "markdown",
   "metadata": {},
   "source": [
    "### 1. Contengan una “r” seguida por una “g” (minúsculas). La “r” y la “g” no necesariamente tienen que estar en posiciones consecutivas. **(2 puntos)**."
   ]
  },
  {
   "cell_type": "code",
   "execution_count": 5,
   "metadata": {},
   "outputs": [
    {
     "name": "stdout",
     "output_type": "stream",
     "text": [
      "\n",
      "Punto 1: Líneas con 'r' seguida de 'g':\n",
      "4:383.75:travel:20170223:flight to Boston, to visit ABC Corp.\n",
      "5:55.00:travel:20170223:cab to ABC Corp. in Cambridge, MA\n",
      "6:23.25:meal:20170223:dinner at Logan Airport\n",
      "14:6.53:meal:20170302:Dunkin Donuts, drive to Big Inc. near DC\n",
      "17:86.00:travel:20170304:mileage, drive to/from Big Inc., Reston, VA\n",
      "19:378.81:travel:20170304:Hyatt Hotel, Reston VA, for Big Inc. meeting\n",
      "25:86.00:travel:20170317:mileage, drive to/from Big Inc., Reston, VA\n",
      "26:32.27:meal:20170317:lunch at Clyde's with Fred and Gina, Big Inc.\n"
     ]
    }
   ],
   "source": [
    "patron1 = re.compile(r\"r.*g\")  # Solo busca letras minúsculas\n",
    "\n",
    "resultado1 = [linea for linea in datos if patron1.search(linea)]\n",
    "print(\"\\nPunto 1: Líneas con 'r' seguida de 'g':\")\n",
    "for r in resultado1:\n",
    "    print(r)"
   ]
  },
  {
   "cell_type": "markdown",
   "metadata": {},
   "source": [
    "> **Explicación:**  \n",
    "> `re.compile` se utiliza para compilar una expresión regular en un objeto patrón, lo que permite reutilizar la expresión regular en múltiples búsquedas. `search` se usa para buscar el patrón en una cadena de texto y retorna un objeto Match si encuentra una coincidencia.\n",
    "----------"
   ]
  },
  {
   "cell_type": "markdown",
   "metadata": {},
   "source": [
    "### 2. Describan comidas que cuesten al menos 100.00. **(2 puntos)**."
   ]
  },
  {
   "cell_type": "code",
   "execution_count": 6,
   "metadata": {},
   "outputs": [
    {
     "name": "stdout",
     "output_type": "stream",
     "text": [
      "\n",
      "Punto 2: Comidas con costo >= 100.00:\n",
      "8:142.12:meal:20170226:host dinner with ABC clients, Al, Bob, Cy, Dave, Ellie\n",
      "15:127.23:meal:20170302:dinner, Tavern64\n"
     ]
    }
   ],
   "source": [
    "resultado2 = []\n",
    "for linea in datos:\n",
    "    partes = linea.split(':')\n",
    "    if len(partes) >= 5:\n",
    "        # Se extraen los campos: ID, Amount, Category, Date, Description\n",
    "        id_, monto, categoria, fecha, descripcion = partes\n",
    "        try:\n",
    "            if categoria.lower() == \"meal\" and float(monto) >= 100.00:\n",
    "                resultado2.append(linea)\n",
    "        except ValueError:\n",
    "            # En caso de que el monto no se pueda convertir a float\n",
    "            continue\n",
    "\n",
    "print(\"\\nPunto 2: Comidas con costo >= 100.00:\")\n",
    "for r in resultado2:\n",
    "    print(r)"
   ]
  },
  {
   "cell_type": "markdown",
   "metadata": {},
   "source": [
    "> **Explicación:**  \n",
    "> En este caso, se utiliza un bucle `for` para iterar sobre cada línea de datos. Cada línea se divide en partes utilizando el método `split(':')`. Luego, se verifica si la categoría es \"meal\" y si el monto es mayor o igual a 100.00. Si ambas condiciones se cumplen, la línea se agrega a la lista `resultado2`. Finalmente, se imprimen las líneas que cumplen con estas condiciones.\n",
    "----------"
   ]
  },
  {
   "cell_type": "markdown",
   "metadata": {},
   "source": [
    "### 3. Contengan una “a”, seguida por una “b”, seguida por una “c” (puede haber otros caracteres entre la “a” y la ”b” y entre la “b” y la ”c”; asimismo dichos caracteres pueden ser minúsculas o mayúsculas). En caso de existir caracteres entre las letras indicadas, dichos caracteres no pueden ser a ni b (entre la a y la b), ni b y c (entre la b y la c). Ejemplos de cadenas invalidas: “A apple, a banana”; “bad but beatiful car” **(2 puntos)**"
   ]
  },
  {
   "cell_type": "code",
   "execution_count": 8,
   "metadata": {},
   "outputs": [
    {
     "name": "stdout",
     "output_type": "stream",
     "text": [
      "\n",
      "Punto 3: Líneas que contengan 'a', luego 'b' y luego 'c' con las restricciones:\n",
      "2:79.81:meal:20170222:lunch with ABC Corp. clients Al, Bob, and Cy\n",
      "4:383.75:travel:20170223:flight to Boston, to visit ABC Corp.\n",
      "5:55.00:travel:20170223:cab to ABC Corp. in Cambridge, MA\n",
      "8:142.12:meal:20170226:host dinner with ABC clients, Al, Bob, Cy, Dave, Ellie\n",
      "14:6.53:meal:20170302:Dunkin Donuts, drive to Big Inc. near DC\n",
      "17:86.00:travel:20170304:mileage, drive to/from Big Inc., Reston, VA\n",
      "19:378.81:travel:20170304:Hyatt Hotel, Reston VA, for Big Inc. meeting\n",
      "25:86.00:travel:20170317:mileage, drive to/from Big Inc., Reston, VA\n",
      "26:32.27:meal:20170317:lunch at Clyde's with Fred and Gina, Big Inc.\n"
     ]
    }
   ],
   "source": [
    "patron3 = re.compile(r'a(?:(?![ab]).)*b(?:(?![bc]).)*c', re.IGNORECASE)\n",
    "\n",
    "resultado3 = [linea for linea in datos if patron3.search(linea)]\n",
    "print(\"\\nPunto 3: Líneas que contengan 'a', luego 'b' y luego 'c' con las restricciones:\")\n",
    "for r in resultado3:\n",
    "    print(r)"
   ]
  },
  {
   "cell_type": "markdown",
   "metadata": {},
   "source": [
    "> **Explicación:**\n",
    "> La expresión regular `a(?:(?![ab]).)*b(?:(?![bc]).)*c` se utiliza para buscar una 'a' seguida de una 'b' seguida de una 'c', con ciertas restricciones:\n",
    "\n",
    "> - `a`: Busca la letra 'a'.\n",
    "> - `(?:...)`: Es un grupo de no captura, utilizado para agrupar partes de la expresión sin crear una referencia de captura.\n",
    "> - `(?![ab])`: Es una afirmación de no coincidencia (negative lookahead), que asegura que lo que sigue no es ni 'a' ni 'b'.\n",
    "> - `.`: Coincide con cualquier carácter excepto nuevas líneas.\n",
    "> - `.*`: Coincide con cero o más repeticiones del patrón anterior (cualquier carácter excepto nuevas líneas).\n",
    "> - `b`: Busca la letra 'b'.\n",
    "> - `(?:(?![bc]).)*`: Similar al grupo anterior, asegura que entre 'b' y 'c' no haya ni 'b' ni 'c'.\n",
    "> - `c`: Busca la letra 'c'.\n",
    "\n",
    "> El modificador `re.IGNORECASE` permite que la búsqueda sea insensible a mayúsculas y minúsculas, es decir, no distingue entre 'a' y 'A', 'b' y 'B', 'c' y 'C'."
   ]
  },
  {
   "cell_type": "markdown",
   "metadata": {},
   "source": [
    "### 4. Contengan en la descripción de gastos una “a” minúscula y un digito entre 0 y 9 en cualquier orden. Es decir, el carácter “a” puede aparecer antes o después del digito. **(2 puntos)**"
   ]
  },
  {
   "cell_type": "code",
   "execution_count": 9,
   "metadata": {},
   "outputs": [
    {
     "name": "stdout",
     "output_type": "stream",
     "text": [
      "\n",
      "Punto 4: Líneas cuya descripción contenga una 'a' minúscula y un dígito:\n",
      "12:79.99:supply:20170227:spare 20\" monitor\n",
      "15:127.23:meal:20170302:dinner, Tavern64\n",
      "20:1247.49:supply:20170306:Dell 7000 laptop/workstation\n",
      "24:195.89:supply:20170309:black toner, HP 304A, 2-pack\n"
     ]
    }
   ],
   "source": [
    "resultado4 = []\n",
    "for linea in datos:\n",
    "    partes = linea.split(':')\n",
    "    if len(partes) >= 5:\n",
    "        descripcion = partes[4]\n",
    "        if re.search(r'a', descripcion) and re.search(r'\\d', descripcion):\n",
    "            resultado4.append(linea)\n",
    "\n",
    "print(\"\\nPunto 4: Líneas cuya descripción contenga una 'a' minúscula y un dígito:\")\n",
    "for r in resultado4:\n",
    "    print(r)"
   ]
  },
  {
   "cell_type": "markdown",
   "metadata": {},
   "source": [
    "### 5. Contengan el carácter “d”, posiblemente seguido de otros caracteres, seguido de una “i” (los caracteres “d”, e “i” pueden ser minúsculas o mayúsculas).\n",
    "*Coincidencias incluirían palabras tales como: diver, doily, drip, diplomat, etc. **(2 puntos)***"
   ]
  },
  {
   "cell_type": "code",
   "execution_count": 11,
   "metadata": {},
   "outputs": [
    {
     "name": "stdout",
     "output_type": "stream",
     "text": [
      "\n",
      "Punto 5: Líneas que contengan 'd' seguido de cualquier carácter y luego 'i':\n",
      "6:23.25:meal:20170223:dinner at Logan Airport\n",
      "8:142.12:meal:20170226:host dinner with ABC clients, Al, Bob, Cy, Dave, Ellie\n",
      "14:6.53:meal:20170302:Dunkin Donuts, drive to Big Inc. near DC\n",
      "15:127.23:meal:20170302:dinner, Tavern64\n",
      "16:33.07:meal:20170303:dinner, Uncle Julio's\n",
      "17:86.00:travel:20170304:mileage, drive to/from Big Inc., Reston, VA\n",
      "20:1247.49:supply:20170306:Dell 7000 laptop/workstation\n",
      "21:6.99:supply:20170306:HDMI cable\n",
      "22:212.06:util:20170308:Duquesne Light\n",
      "23:23.86:supply:20170309:Practical Guide to Quant Finance Interviews\n",
      "25:86.00:travel:20170317:mileage, drive to/from Big Inc., Reston, VA\n",
      "26:32.27:meal:20170317:lunch at Clyde's with Fred and Gina, Big Inc.\n"
     ]
    }
   ],
   "source": [
    "patron5 = re.compile(r'd.*i', re.IGNORECASE)\n",
    "\n",
    "resultado5 = [linea for linea in datos if patron5.search(linea)]\n",
    "print(\"\\nPunto 5: Líneas que contengan 'd' seguido de cualquier carácter y luego 'i':\")\n",
    "for r in resultado5:\n",
    "    print(r)"
   ]
  },
  {
   "cell_type": "markdown",
   "metadata": {},
   "source": [
    "> **Explicación**\n",
    ">La expresión regular `d.*i` se utiliza para buscar una 'd' seguida de cualquier carácter (incluyendo ninguno) y luego una 'i'. Aquí está la explicación detallada:\n",
    "\n",
    "> - `d`: Busca el carácter 'd'.\n",
    "> - `.`: Coincide con cualquier carácter excepto nuevas líneas.\n",
    "> - `*`: Es un cuantificador que coincide con cero o más repeticiones del patrón anterior (en este caso, cualquier carácter).\n",
    "> - `i`: Busca el carácter 'i'.\n",
    "\n",
    "> En conjunto, `d.*i` busca una 'd' seguida de cero o más caracteres (cualquiera) y luego una 'i'. El modificador `re.IGNORECASE` permite que la búsqueda sea insensible a mayúsculas y minúsculas, es decir, no distingue entre 'd' y 'D', 'i' y 'I'."
   ]
  },
  {
   "cell_type": "markdown",
   "metadata": {},
   "source": [
    "**A continuación, se describen ejercicios adicionales de expresiones regulares. Cabe\n",
    "señalar que cada uno de los siguientes ejercicios contienen el texto a analizar.**"
   ]
  },
  {
   "cell_type": "markdown",
   "metadata": {},
   "source": []
  }
 ],
 "metadata": {
  "kernelspec": {
   "display_name": "Python 3",
   "language": "python",
   "name": "python3"
  },
  "language_info": {
   "codemirror_mode": {
    "name": "ipython",
    "version": 3
   },
   "file_extension": ".py",
   "mimetype": "text/x-python",
   "name": "python",
   "nbconvert_exporter": "python",
   "pygments_lexer": "ipython3",
   "version": "3.9.14"
  }
 },
 "nbformat": 4,
 "nbformat_minor": 2
}
