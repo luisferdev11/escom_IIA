{
 "cells": [
  {
   "cell_type": "code",
   "execution_count": 2,
   "metadata": {},
   "outputs": [],
   "source": [
    "import re"
   ]
  },
  {
   "cell_type": "code",
   "execution_count": 3,
   "metadata": {},
   "outputs": [
    {
     "data": {
      "text/plain": [
       "['ID:Amount:Category:Date:Description\\n1:5.25:supply:20170222:box of staples\\n2:79.81:meal:20170222:lunch with ABC Corp. clients Al, Bob, and Cy\\n3:43.00:travel:20170222:cab back to office\\n4:383.75:travel:20170223:flight to Boston, to visit ABC Corp.\\n5:55.00:travel:20170223:cab to ABC Corp. in Cambridge, MA\\n6:23.25:meal:20170223:dinner at Logan Airport\\n7:318.47:supply:20170224:paper, toner, pens, paperclips, tape\\n8:142.12:meal:20170226:host dinner with ABC clients, Al, Bob, Cy, Dave, Ellie\\n9:303.94:util:20170227:Peoples Gas\\n10:121.07:util:20170227:Verizon Wireless\\n11:7.59:supply:20170227:Python book (used)\\n12:79.99:supply:20170227:spare 20\" monitor\\n13:49.86:supply:20170228:Stoch Cal for Finance II\\n14:6.53:meal:20170302:Dunkin Donuts, drive to Big Inc. near DC\\n15:127.23:meal:20170302:dinner, Tavern64\\n16:33.07:meal:20170303:dinner, Uncle Julio\\'s\\n17:86.00:travel:20170304:mileage, drive to/from Big Inc., Reston, VA\\n18:22.00:travel:20170304:tolls\\n19:378.81:travel:20170304:Hyatt Hotel, Reston VA, for Big Inc. meeting\\n20:1247.49:supply:20170306:Dell 7000 laptop/workstation\\n21:6.99:supply:20170306:HDMI cable\\n22:212.06:util:20170308:Duquesne Light\\n23:23.86:supply:20170309:Practical Guide to Quant Finance Interviews\\n24:195.89:supply:20170309:black toner, HP 304A, 2-pack\\n25:86.00:travel:20170317:mileage, drive to/from Big Inc., Reston, VA\\n26:32.27:meal:20170317:lunch at Clyde\\'s with Fred and Gina, Big Inc.\\n27:22.00:travel:20170317:tolls\\n28:119.56:util:20170319:Verizon Wireless\\n29:284.23:util:20170323:Peoples Gas\\n30:8.98:supply:20170325:Flair pens']"
      ]
     },
     "execution_count": 3,
     "metadata": {},
     "output_type": "execute_result"
    }
   ],
   "source": [
    "documentA = open('AnexoA.txt', 'r').read().split('\\n\\n')\n",
    "documentA"
   ]
  }
 ],
 "metadata": {
  "kernelspec": {
   "display_name": "Python 3",
   "language": "python",
   "name": "python3"
  },
  "language_info": {
   "codemirror_mode": {
    "name": "ipython",
    "version": 3
   },
   "file_extension": ".py",
   "mimetype": "text/x-python",
   "name": "python",
   "nbconvert_exporter": "python",
   "pygments_lexer": "ipython3",
   "version": "3.9.14"
  }
 },
 "nbformat": 4,
 "nbformat_minor": 2
}
