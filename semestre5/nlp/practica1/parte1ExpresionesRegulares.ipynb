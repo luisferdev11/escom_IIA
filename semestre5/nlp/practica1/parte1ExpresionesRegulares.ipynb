{
  "cells": [
    {
      "cell_type": "markdown",
      "metadata": {
        "id": "m4h3jO_w4Wx-"
      },
      "source": [
        "# Practica 1\n",
        "**Tecnologías de Lenguaje Natural**\n",
        "\n",
        "*Luis Fernando Rodríguez Domínguez*\n",
        "\n",
        "5BV1\n",
        "\n",
        "*Ingeniería en Inteligencia Artificial*\n",
        "\n",
        "Fecha última de modificación: 13 de marzo del 2025"
      ]
    },
    {
      "cell_type": "markdown",
      "metadata": {},
      "source": [
        "**Funcionalidad General:**  \n",
        "Este programa se encarga de procesar el archivo de texto `AnexoA.txt`, que contiene un encabezado seguido de registros de datos. Para cada uno de los ejercicios solicitados (numerales 1 a 5, y ejercicios adicionales del 6 al 9), se aplican expresiones regulares para identificar y extraer líneas o fragmentos que cumplen condiciones específicas (por ejemplo, encontrar líneas con patrones determinados, formatear números, o simplificar direcciones IPv6).\n",
        "\n",
        "**Datos de Entrada:**\n",
        "\n",
        "-   **Archivo:** `AnexoA.txt`\n",
        "    -   **Contenido:** El archivo contiene un encabezado y 30 líneas de datos estructurados en campos separados por dos puntos (`:`).\n",
        "    -   **Tipo de datos:** Texto plano (UTF-8).\n",
        "\n",
        "**Listado y Descripción de Funciones:**\n",
        "\n",
        "1.  **`leer_archivo(ruta)`**\n",
        "    \n",
        "    -   **Propósito:** Lee el contenido de un archivo de texto y lo divide en una lista de líneas.\n",
        "    -   **Parámetros:**\n",
        "        -   `ruta` (str): Ruta del archivo de texto.\n",
        "    -   **Salida:** Lista de cadenas, donde la primera corresponde al encabezado y el resto a los registros de datos.\n",
        "2.  **Patrones y Aplicación Directa de Expresiones Regulares:**\n",
        "    \n",
        "    -   **Definición de patrones (por ejemplo, `patron1`, `patron2`, …, `patron_pelicula`, `patron_chocolate`, `patron_poblacion`):**\n",
        "        -   **Propósito:** Cada patrón se diseña para cumplir con los requisitos específicos de filtrado o transformación (por ejemplo, buscar una “r” seguida de una “g”, formatear números, identificar títulos de películas, etc.).\n",
        "    -   **Filtrado de datos:**\n",
        "        -   Se emplea comprensión de listas para aplicar cada expresión regular a cada línea del archivo, generando listas de resultados que se imprimen y se documentan.\n",
        "3.  **Funciones de Simplificación de IPv6:**\n",
        "    \n",
        "    -   **`remover_ceros_izquierda(direccion)`**\n",
        "        -   **Propósito:** Remueve los ceros a la izquierda de cada bloque de una dirección IPv6 extendida.\n",
        "        -   **Parámetros:**\n",
        "            -   `direccion` (str): Dirección IPv6 en formato extendido.\n",
        "        -   **Salida:** Dirección IPv6 con ceros a la izquierda eliminados.\n",
        "    -   **`colapsar_bloques_ceros(direccion)`**\n",
        "        -   **Propósito:** Colapsa la secuencia más larga de bloques compuestos únicamente de ceros en una dirección IPv6, reemplazándolos por `::`.\n",
        "        -   **Parámetros:**\n",
        "            -   `direccion` (str): Dirección IPv6 procesada sin ceros a la izquierda.\n",
        "        -   **Salida:** Dirección IPv6 simplificada.\n",
        "    -   **`simplificar_ipv6(direccion)`**\n",
        "        -   **Propósito:** Combina las funciones anteriores para transformar una dirección IPv6 extendida en su forma simplificada.\n",
        "        -   **Parámetros:**\n",
        "            -   `direccion` (str): Dirección IPv6 extendida.\n",
        "        -   **Salida:** Dirección IPv6 en su formato simplificado.\n"
      ]
    },
    {
      "cell_type": "markdown",
      "metadata": {
        "id": "4t6gbmvT4WyA"
      },
      "source": [
        "## Parte 1. Expresiones Regulares\n",
        "\n",
        "Para las cadenas de texto incluidas en el Anexo “A”, y únicamente para los numerales siguientes 1 a 5, identificar las líneas que cumplan con los siguientes:"
      ]
    },
    {
      "cell_type": "code",
      "execution_count": 1,
      "metadata": {
        "colab": {
          "base_uri": "https://localhost:8080/"
        },
        "id": "s38jgTVW4WyA",
        "outputId": "9049c1e2-0d03-415c-d194-afc9cf715caa"
      },
      "outputs": [
        {
          "name": "stdout",
          "output_type": "stream",
          "text": [
            "Encabezado: ID:Amount:Category:Date:Description\n",
            "Número de registros: 30\n"
          ]
        }
      ],
      "source": [
        "import re\n",
        "\n",
        "# Función para leer el contenido del archivo \"AnexoA.txt\"\n",
        "def leer_archivo(ruta):\n",
        "    \"\"\"\n",
        "    Lee un archivo de texto y retorna una lista de líneas.\n",
        "    Se asume que la primera línea es el encabezado.\n",
        "    Se utiliza re.split para separar por saltos de línea.\n",
        "    \"\"\"\n",
        "    with open(ruta, 'r', encoding='utf-8') as file:\n",
        "        contenido = file.read()\n",
        "    # Usamos re.split para dividir en líneas\n",
        "    lineas = re.split(r'\\n', contenido)\n",
        "    return lineas\n",
        "\n",
        "ruta_archivo = 'AnexoA.txt'\n",
        "lineas = leer_archivo(ruta_archivo)\n",
        "\n",
        "# Separamos el encabezado de las líneas de datos\n",
        "encabezado = lineas[0]\n",
        "datos = lineas[1:]\n",
        "print(\"Encabezado:\", encabezado)\n",
        "print(\"Número de registros:\", len(datos))"
      ]
    },
    {
      "cell_type": "markdown",
      "metadata": {
        "id": "rDRwj1bS4WyB"
      },
      "source": [
        "### 1. Contengan una “r” seguida por una “g” (minúsculas). La “r” y la “g” no necesariamente tienen que estar en posiciones consecutivas. **(2 puntos)**."
      ]
    },
    {
      "cell_type": "code",
      "execution_count": 2,
      "metadata": {
        "colab": {
          "base_uri": "https://localhost:8080/"
        },
        "id": "JC8CqiLH4WyB",
        "outputId": "cd2558d9-083b-4e09-9c7b-fda2c8598d3a"
      },
      "outputs": [
        {
          "name": "stdout",
          "output_type": "stream",
          "text": [
            "\n",
            "Punto 1: Líneas con 'r' seguida de 'g':\n",
            "4:383.75:travel:20170223:flight to Boston, to visit ABC Corp.\n",
            "5:55.00:travel:20170223:cab to ABC Corp. in Cambridge, MA\n",
            "6:23.25:meal:20170223:dinner at Logan Airport\n",
            "14:6.53:meal:20170302:Dunkin Donuts, drive to Big Inc. near DC\n",
            "17:86.00:travel:20170304:mileage, drive to/from Big Inc., Reston, VA\n",
            "19:378.81:travel:20170304:Hyatt Hotel, Reston VA, for Big Inc. meeting\n",
            "25:86.00:travel:20170317:mileage, drive to/from Big Inc., Reston, VA\n",
            "26:32.27:meal:20170317:lunch at Clyde's with Fred and Gina, Big Inc.\n"
          ]
        }
      ],
      "source": [
        "patron1 = re.compile(r\"r.*g\")  # Solo busca letras minúsculas\n",
        "\n",
        "resultado1 = [linea for linea in datos if patron1.search(linea)]\n",
        "print(\"\\nPunto 1: Líneas con 'r' seguida de 'g':\")\n",
        "for r in resultado1:\n",
        "    print(r)"
      ]
    },
    {
      "cell_type": "markdown",
      "metadata": {
        "id": "5FmMojCN4WyC"
      },
      "source": [
        "> **Explicación `r\"r.*g\"`:**  \n",
        "> -   **r:** Literalmente la letra \"r\" en minúscula.\n",
        "> -   **.*:** El punto (`.`) coincide con cualquier carácter (excepto saltos de línea) y el asterisco (`*`) indica “cero o más” repeticiones; es decir, puede haber cualquier cantidad de caracteres (incluso ninguno) entre la \"r\" y la \"g\".\n",
        "> -   **g:** Literalmente la letra \"g\" en minúscula."
      ]
    },
    {
      "cell_type": "markdown",
      "metadata": {
        "id": "PaukL5N14WyC"
      },
      "source": [
        "### 2. Describan comidas que cuesten al menos 100.00. **(2 puntos)**."
      ]
    },
    {
      "cell_type": "code",
      "execution_count": 3,
      "metadata": {
        "colab": {
          "base_uri": "https://localhost:8080/"
        },
        "id": "Blnk-Xvs4WyC",
        "outputId": "517e8164-62fd-4125-cf8f-19aca00515a5"
      },
      "outputs": [
        {
          "name": "stdout",
          "output_type": "stream",
          "text": [
            "\n",
            "Punto 2: Comidas con costo >= 100.00:\n",
            "8:142.12:meal:20170226:host dinner with ABC clients, Al, Bob, Cy, Dave, Ellie\n",
            "15:127.23:meal:20170302:dinner, Tavern64\n"
          ]
        }
      ],
      "source": [
        "patron2 = re.compile(r'\\:[1-9][0-9]{2}\\.\\d*\\:meal')\n",
        "\n",
        "resultado2 = [linea for linea in datos if patron2.search(linea)]\n",
        "\n",
        "print(\"\\nPunto 2: Comidas con costo >= 100.00:\")\n",
        "for r in resultado2:\n",
        "    print(r)"
      ]
    },
    {
      "cell_type": "markdown",
      "metadata": {
        "id": "fFzHcKC64WyC"
      },
      "source": [
        "> **Explicación `r'\\:[1-9][0-9]{2}\\.\\d*\\:meal'`:**  \n",
        ">    -   **:** Coincide con el carácter literal “:” (dos puntos) que delimita el inicio del campo de costo.\n",
        ">    -   **[1-9]:** El primer dígito del costo debe ser del 1 al 9, garantizando que no empiece con 0.\n",
        ">    -   **[0-9]{2}:** Luego deben venir exactamente dos dígitos (del 0 al 9), completando un número de tres dígitos (mínimo 100).\n",
        ">    -   **. :** Coincide con el punto decimal literal.\n",
        ">    -   __\\d_:_* Coincide con cero o más dígitos, permitiendo tener o no decimales.\n",
        ">    -   **:meal:** Finaliza con “:meal” para identificar la parte de la descripción.\n",
        "----------"
      ]
    },
    {
      "cell_type": "markdown",
      "metadata": {
        "id": "fp3eGwBD4WyD"
      },
      "source": [
        "### 3. Contengan una “a”, seguida por una “b”, seguida por una “c” (puede haber otros caracteres entre la “a” y la ”b” y entre la “b” y la ”c”; asimismo dichos caracteres pueden ser minúsculas o mayúsculas). En caso de existir caracteres entre las letras indicadas, dichos caracteres no pueden ser a ni b (entre la a y la b), ni b y c (entre la b y la c). Ejemplos de cadenas invalidas: “A apple, a banana”; “bad but beatiful car” **(2 puntos)**"
      ]
    },
    {
      "cell_type": "code",
      "execution_count": 4,
      "metadata": {
        "colab": {
          "base_uri": "https://localhost:8080/"
        },
        "id": "D0GFMVpZ4WyD",
        "outputId": "9db7ab89-8c30-4cea-a1a2-acc45b2a4d12"
      },
      "outputs": [
        {
          "name": "stdout",
          "output_type": "stream",
          "text": [
            "\n",
            "Punto 3: Líneas que contengan 'a', luego 'b' y luego 'c' con las restricciones:\n",
            "14:6.53:meal:20170302:Dunkin Donuts, drive to Big Inc. near DC\n",
            "17:86.00:travel:20170304:mileage, drive to/from Big Inc., Reston, VA\n",
            "19:378.81:travel:20170304:Hyatt Hotel, Reston VA, for Big Inc. meeting\n",
            "25:86.00:travel:20170317:mileage, drive to/from Big Inc., Reston, VA\n",
            "26:32.27:meal:20170317:lunch at Clyde's with Fred and Gina, Big Inc.\n"
          ]
        }
      ],
      "source": [
        "patron3 = re.compile(r'[aA][^aAbB]*[bB][^bBcC]*c')\n",
        "\n",
        "resultado3 = [linea for linea in datos if patron3.search(linea)]\n",
        "print(\"\\nPunto 3: Líneas que contengan 'a', luego 'b' y luego 'c' con las restricciones:\")\n",
        "for r in resultado3:\n",
        "    print(r)"
      ]
    },
    {
      "cell_type": "markdown",
      "metadata": {
        "id": "qqY5428U4WyE"
      },
      "source": [
        "> **Explicación `[aA][^aAbB]*[bB][^bBcC]*c`:**\n",
        ">  -   **[aA]:** Coincide con la letra \"a\" en mayúscula o minúscula.\n",
        ">    -   **[^aAbB]*:** Coincide con cero o más caracteres que **no** sean “a” (minúscula o mayúscula) ni “b” (minúscula o mayúscula). Esto impide que, entre la \"a\" y la \"b\", aparezcan otras \"a\" o \"b\".\n",
        ">    -   **[bB]:** Coincide con la letra \"b\" en mayúscula o minúscula.\n",
        ">    -   **[^bBcC]*:** Coincide con cero o más caracteres que **no** sean “b” (minúscula o mayúscula) ni “c” (minúscula o mayúscula), para controlar el contenido entre “b” y “c”.\n",
        ">    -   **c:** Coincide con la letra \"c\" en minúscula.\n"
      ]
    },
    {
      "cell_type": "markdown",
      "metadata": {
        "id": "zBkegJJb4WyE"
      },
      "source": [
        "### 4. Contengan en la descripción de gastos una “a” minúscula y un digito entre 0 y 9 en cualquier orden. Es decir, el carácter “a” puede aparecer antes o después del digito. **(2 puntos)**"
      ]
    },
    {
      "cell_type": "code",
      "execution_count": 5,
      "metadata": {
        "colab": {
          "base_uri": "https://localhost:8080/"
        },
        "id": "I_c84MUU4WyE",
        "outputId": "e12fa4e8-7ff3-429d-fca2-8f6a43a8e9df"
      },
      "outputs": [
        {
          "name": "stdout",
          "output_type": "stream",
          "text": [
            "\n",
            "Punto 4: Líneas cuya descripción contenga una 'a' minúscula y un dígito:\n",
            "12:79.99:supply:20170227:spare 20\" monitor\n",
            "15:127.23:meal:20170302:dinner, Tavern64\n",
            "20:1247.49:supply:20170306:Dell 7000 laptop/workstation\n",
            "24:195.89:supply:20170309:black toner, HP 304A, 2-pack\n"
          ]
        }
      ],
      "source": [
        "patron4 = re.compile(r'\\:[^:]*a[^:]*\\d[^:]*$|\\:[^:]*\\d[^:]*a[^:]*$')\n",
        "resultado4 = [linea for linea in datos if patron4.search(linea)]\n",
        "\n",
        "print(\"\\nPunto 4: Líneas cuya descripción contenga una 'a' minúscula y un dígito:\")\n",
        "for r in resultado4:\n",
        "    print(r)"
      ]
    },
    {
      "cell_type": "markdown",
      "metadata": {
        "id": "Z9kcd58j8UX-"
      },
      "source": [
        "> **Explicación `r'\\:[^:]*a[^:]*\\d[^:]*$|\\:[^:]*\\d[^:]*a[^:]*$'`:**\n",
        "> -   **::** Comienza buscando el carácter “:” que delimita la sección de la descripción.\n",
        ">    -   **[^:]*:** Coincide con cero o más caracteres que no sean “:” para restringir la búsqueda a la descripción.\n",
        ">    -   **a / \\d:** Se busca la aparición de una “a” minúscula y un dígito.\n",
        ">    -   **[^:]*$:** Asegura que se cubre el resto de la línea sin encontrar otro “:” (se busca hasta el final).\n",
        ">    -   **| (OR):** Permite dos alternativas: la “a” aparece antes del dígito o viceversa."
      ]
    },
    {
      "cell_type": "markdown",
      "metadata": {
        "id": "naA3ma6z4WyE"
      },
      "source": [
        "### 5. Contengan el carácter “d”, posiblemente seguido de otros caracteres, seguido de una “i” (los caracteres “d”, e “i” pueden ser minúsculas o mayúsculas).\n",
        "*Coincidencias incluirían palabras tales como: diver, doily, drip, diplomat, etc. **(2 puntos)***"
      ]
    },
    {
      "cell_type": "code",
      "execution_count": 6,
      "metadata": {
        "colab": {
          "base_uri": "https://localhost:8080/"
        },
        "id": "PtxTroIL4WyE",
        "outputId": "33d53c9d-a3a2-425f-f757-0ce31051ab88"
      },
      "outputs": [
        {
          "name": "stdout",
          "output_type": "stream",
          "text": [
            "\n",
            "Punto 5: Líneas que contengan 'd' seguido de cualquier carácter y luego 'i':\n",
            "6:23.25:meal:20170223:dinner at Logan Airport\n",
            "8:142.12:meal:20170226:host dinner with ABC clients, Al, Bob, Cy, Dave, Ellie\n",
            "14:6.53:meal:20170302:Dunkin Donuts, drive to Big Inc. near DC\n",
            "15:127.23:meal:20170302:dinner, Tavern64\n",
            "16:33.07:meal:20170303:dinner, Uncle Julio's\n",
            "17:86.00:travel:20170304:mileage, drive to/from Big Inc., Reston, VA\n",
            "20:1247.49:supply:20170306:Dell 7000 laptop/workstation\n",
            "21:6.99:supply:20170306:HDMI cable\n",
            "22:212.06:util:20170308:Duquesne Light\n",
            "23:23.86:supply:20170309:Practical Guide to Quant Finance Interviews\n",
            "25:86.00:travel:20170317:mileage, drive to/from Big Inc., Reston, VA\n",
            "26:32.27:meal:20170317:lunch at Clyde's with Fred and Gina, Big Inc.\n"
          ]
        }
      ],
      "source": [
        "patron5 = re.compile(r'[dD].*[iI]')\n",
        "\n",
        "resultado5 = [linea for linea in datos if patron5.search(linea)]\n",
        "print(\"\\nPunto 5: Líneas que contengan 'd' seguido de cualquier carácter y luego 'i':\")\n",
        "for r in resultado5:\n",
        "    print(r)"
      ]
    },
    {
      "cell_type": "markdown",
      "metadata": {
        "id": "8MfvYdSm4WyF"
      },
      "source": [
        "> **Explicación**\n",
        ">La expresión regular `'[dD].*[iI]'` se utiliza para buscar una 'd' seguida de cualquier carácter (incluyendo ninguno) y luego una 'i'. Aquí está la explicación detallada:\n",
        "\n",
        "> - `[dD]`: Busca el carácter 'd' en mayúscula o minúscula.\n",
        "> - `.`: Coincide con cualquier carácter excepto nuevas líneas.\n",
        "> - `*`: Es un cuantificador que coincide con cero o más repeticiones del patrón anterior (en este caso, cualquier carácter).\n",
        "> - `[iI]`: Busca el carácter 'i' o 'I'.\n"
      ]
    },
    {
      "cell_type": "markdown",
      "metadata": {
        "id": "cWohd0nv4WyF"
      },
      "source": [
        "**A continuación, se describen ejercicios adicionales de expresiones regulares. Cabe\n",
        "señalar que cada uno de los siguientes ejercicios contienen el texto a analizar.**"
      ]
    },
    {
      "cell_type": "markdown",
      "metadata": {
        "id": "KdlxATVv4WyF"
      },
      "source": [
        "### 6. Identificar títulos de películas producidas antes de 2002. El año de producción es el encerrado en paréntesis. Para este ejercicio considere que las cadenas que representan los títulos incluyen los caracteres a-k, respectivamente, al inicio de la cadena. **(2 puntos)**"
      ]
    },
    {
      "cell_type": "code",
      "execution_count": 7,
      "metadata": {
        "colab": {
          "base_uri": "https://localhost:8080/"
        },
        "id": "svx_LK2p4WyF",
        "outputId": "cc6c73be-a562-4b27-c0b3-878bb0913054"
      },
      "outputs": [
        {
          "name": "stdout",
          "output_type": "stream",
          "text": [
            "Películas producidas antes de 2002:\n",
            "a. The Shawshank Redemption (1994)\n",
            "b. The Godfather (1972)\n",
            "c. The Godfather: Part II (1974)\n",
            "d. 2001: A Space Odyssey (1968)\n",
            "e. The Good, the Bad and the Ugly (1966)\n",
            "f. Angry Men (1957)\n",
            "g. Schindler's List (1993)\n",
            "i. Fight Club (1999)\n",
            "j. 2010: The Year We Make Contact (1984)\n",
            "k. 101 Dalmatians (1996)\n"
          ]
        }
      ],
      "source": [
        "peliculas = \"\"\"a. The Shawshank Redemption (1994)\n",
        "b. The Godfather (1972)\n",
        "c. The Godfather: Part II (1974)\n",
        "d. 2001: A Space Odyssey (1968)\n",
        "e. The Good, the Bad and the Ugly (1966)\n",
        "f. Angry Men (1957)\n",
        "g. Schindler's List (1993)\n",
        "h. The Lord of the Rings: The Return of the King (2003)\n",
        "i. Fight Club (1999)\n",
        "j. 2010: The Year We Make Contact (1984)\n",
        "k. 101 Dalmatians (1996)\"\"\"\n",
        "\n",
        "\n",
        "lista_peliculas = peliculas.split('\\n')\n",
        "\n",
        "patron_pelicula = re.compile(r\"\\((19\\d{2}|200[01])\\)\")\n",
        "\n",
        "peliculas_antes_2002 = [line for line in lista_peliculas if patron_pelicula.search(line)]\n",
        "\n",
        "print(\"Películas producidas antes de 2002:\")\n",
        "for p in peliculas_antes_2002:\n",
        "    print(p)"
      ]
    },
    {
      "cell_type": "markdown",
      "metadata": {
        "id": "XfPe6OUm4WyF"
      },
      "source": [
        "> **Explicación `\\((19\\d{2}|200[01])\\)`:**\n",
        "> -   **(**: Coincide con el paréntesis de apertura literal.\n",
        "> -   **(19\\d{2}|200[01])**: Grupo de alternancia que permite:\n",
        "> -   **19\\d{2}**: Un año entre 1900 y 1999 (19 seguido de dos dígitos cualesquiera).\n",
        "> -   **200[01]**: El año 2000 o 2001.\n",
        "> -   **)**: Coincide con el paréntesis de cierre literal."
      ]
    },
    {
      "cell_type": "markdown",
      "metadata": {
        "id": "u4FGeO_b4WyF"
      },
      "source": [
        "### 7. Identificar recetas que contengan la palabra 'chocolate' y cualquier variación de ella en términos de combinación entre minúsculas y mayúsculas, y también repetición de caracteres. Por ejemplo, una cadena válida puede ser:\n",
        "“ChOcoolATe. **(2 puntos)**"
      ]
    },
    {
      "cell_type": "code",
      "execution_count": 8,
      "metadata": {
        "colab": {
          "base_uri": "https://localhost:8080/"
        },
        "id": "hPpoR-7g4WyG",
        "outputId": "75c4589b-864e-4424-ef8a-eee8cc5ed47a"
      },
      "outputs": [
        {
          "name": "stdout",
          "output_type": "stream",
          "text": [
            "\n",
            "Recetas que contienen la palabra 'chocolate' (con variaciones):\n",
            "Cake 1: sugar, flour, cocoa powder, baking powder, baking soda, salt, eggs, milk, vegetable oil, vanilla extract, chocolATE chip.\n",
            "Cake 3: dark chocolate cake mix, instant CHOCOLATE pudding mix, sour cream, eggs, vegetable oil, coffee liqueur.\n",
            "Cake 5: gingersnap cookies, chopped pecans, butter, cream cheese, sugar, vanilla extract, eggs, canned pumpkin, cinnamon, CHOColate.\n",
            "Cake 6: flour, baking soda, sea salt, butter, white sugar, brown sugar, eggs, vanilla extract, Chooocolate chips, canola oil.\n"
          ]
        }
      ],
      "source": [
        "recetas = [\n",
        "    \"Cake 1: sugar, flour, cocoa powder, baking powder, baking soda, salt, eggs, milk, vegetable oil, vanilla extract, chocolATE chip.\",\n",
        "    \"Cake 2: cream cheese, sugar, vanilla extract, crescent rolls, cinnamon, butter, honey.\",\n",
        "    \"Cake 3: dark chocolate cake mix, instant CHOCOLATE pudding mix, sour cream, eggs, vegetable oil, coffee liqueur.\",\n",
        "    \"Cake 4: flour, baking powder, salt, cinnamon, butter, sugar, egg, vanilla extract, milk, chopped walnuts.\",\n",
        "    \"Cake 5: gingersnap cookies, chopped pecans, butter, cream cheese, sugar, vanilla extract, eggs, canned pumpkin, cinnamon, CHOColate.\",\n",
        "    \"Cake 6: flour, baking soda, sea salt, butter, white sugar, brown sugar, eggs, vanilla extract, Chooocolate chips, canola oil.\",\n",
        "    \"Cake 7: wafers, cream cheese, sugar, eggs, vanilla extract, cherry pie filling.\"\n",
        "]\n",
        "\n",
        "# Cada letra se repite al menos una vez y se ignoran mayúsculas y minúsculas\n",
        "patron_chocolate = re.compile(r'(?i)c+h+o+c+o+l+a+t+e+')\n",
        "\n",
        "recetas_con_chocolate = [receta for receta in recetas if patron_chocolate.search(receta)]\n",
        "\n",
        "print(\"\\nRecetas que contienen la palabra 'chocolate' (con variaciones):\")\n",
        "for receta in recetas_con_chocolate:\n",
        "    print(receta)\n"
      ]
    },
    {
      "cell_type": "markdown",
      "metadata": {
        "id": "JY_LiEHo4WyG"
      },
      "source": [
        "> **Explicación:**\n",
        "> - `(?i)`: Este modificador hace que la búsqueda sea insensible a mayúsculas y minúsculas.\n",
        "> - `c+`: Busca una o más repeticiones del carácter 'c'.\n",
        "> - `h+`: Busca una o más repeticiones del carácter 'h'.\n",
        "> - `o+`: Busca una o más repeticiones del carácter 'o'.\n",
        "> - Lo mismo para las demás letras :v"
      ]
    },
    {
      "cell_type": "markdown",
      "metadata": {
        "id": "919MRLSV4WyG"
      },
      "source": [
        "### 8. Insertar comas entre grupos de cada tres dígitos para las siguientes poblaciones por país. **(4 puntos)**"
      ]
    },
    {
      "cell_type": "code",
      "execution_count": 9,
      "metadata": {
        "colab": {
          "base_uri": "https://localhost:8080/"
        },
        "id": "0Lyae-x14WyG",
        "outputId": "60b542c0-c44a-4b7f-bbca-3bc3b70d925c"
      },
      "outputs": [
        {
          "name": "stdout",
          "output_type": "stream",
          "text": [
            "Poblaciones con comas:\n",
            "a. China 1,361,220,000\n",
            "b. India 1,236,800,000\n",
            "c. United States 317,121,000\n",
            "d. Indonesia 237,641,326\n",
            "e. Brazil 201,032,714\n",
            "f. Pakistan 184,872,000\n",
            "g. Nigeria 173,615,000\n",
            "h. Bangladesh 152,518,015\n",
            "i. Russia 143,600,000\n"
          ]
        }
      ],
      "source": [
        "poblaciones = \"\"\"a. China 1361220000\n",
        "b. India 1236800000\n",
        "c. United States 317121000\n",
        "d. Indonesia 237641326\n",
        "e. Brazil 201032714\n",
        "f. Pakistan 184872000\n",
        "g. Nigeria 173615000\n",
        "h. Bangladesh 152518015\n",
        "i. Russia 143600000\"\"\"\n",
        "\n",
        "lista_poblaciones = poblaciones.split('\\n')\n",
        "\n",
        "patron_poblacion = re.compile(r\"(\\d)(?=(\\d{3})+(?!\\d))\")\n",
        "\n",
        "poblaciones_con_comas = [patron_poblacion.sub(r'\\1,', poblacion) for poblacion in lista_poblaciones]\n",
        "\n",
        "print(\"Poblaciones con comas:\")\n",
        "for poblacion in poblaciones_con_comas:\n",
        "    print(poblacion)"
      ]
    },
    {
      "cell_type": "markdown",
      "metadata": {
        "id": "WI3ePHST4WyG"
      },
      "source": [
        "> **Explicación `(\\d)(?=(\\d{3})+(?!\\d))`:**:\n",
        "> -   **(\\d):** Captura un solo dígito.\n",
        "> -   **(?=(\\d{3})+(?!\\d)):** Lookahead (mirada hacia adelante) que verifica que, tras el dígito capturado, existan uno o más grupos de tres dígitos y que no haya un dígito extra después.\n",
        "> -   **(\\d{3})+:** Se asegura de que haya grupos de tres dígitos.\n",
        "> -   **(?!\\d):** Asegura que no haya un dígito adicional, lo que previene insertar comas en lugares erróneos.\n",
        "\n",
        "El método `sub` de la librería `re` en Python se utiliza para buscar un patrón en una cadena y reemplazarlo con una cadena de reemplazo. La sintaxis básica es `re.sub(pattern, repl, string)`, donde `pattern` es la expresión regular a buscar, `repl` es la cadena de reemplazo y `string` es la cadena en la que se realiza la búsqueda y reemplazo.\n",
        "\n",
        "En este caso, se utilizó `re.sub` para insertar comas en las poblaciones, siguiendo el patrón `(\\d)(?=(\\d{3})+(?!\\d))`. Este patrón busca un dígito seguido de uno o más grupos de tres dígitos, asegurándose de que no haya un dígito adicional después. Luego, `\\1,` se usa como cadena de reemplazo, donde `\\1` representa el dígito capturado y `,` es la coma que se inserta."
      ]
    },
    {
      "cell_type": "markdown",
      "metadata": {
        "id": "HEErTLcY4WyG"
      },
      "source": [
        "### 9. Simplificar direcciones IPv6. **(4 puntos)**"
      ]
    },
    {
      "cell_type": "code",
      "execution_count": 10,
      "metadata": {
        "id": "omSlJZnl4WyG"
      },
      "outputs": [],
      "source": [
        "def remover_ceros_izquierda(direccion):\n",
        "    \"\"\"\n",
        "    Recibe una dirección IPv6 extendida y remueve los ceros a la izquierda\n",
        "    de cada bloque. Si el resultado es una cadena vacía, se reemplaza por \"0\".\n",
        "    Retorna la dirección con los bloques procesados.\n",
        "    \"\"\"\n",
        "    return re.sub(r'\\b0+([0-9a-fA-F]+)\\b', r'\\1', direccion)\n",
        "\n",
        "def colapsar_bloques_ceros(direccion):\n",
        "    \"\"\"\n",
        "    Recibe una dirección IPv6 (con ceros ya removidos a la izquierda) y colapsa la\n",
        "    secuencia más larga de bloques que sean \"0\", reemplazándolos por \"::\".\n",
        "    Solo se realiza el colapso de la secuencia más larga para evitar ambigüedades.\n",
        "    \"\"\"\n",
        "    zero_blocks = re.findall(r'(?:^|:)0(?::0)+(?:$|:)', direccion)\n",
        "\n",
        "    if zero_blocks:\n",
        "        # Elegir el bloque más largo de ceros para reemplazarlo con \"::\"\n",
        "        longest_zero_block = max(zero_blocks, key=len)\n",
        "        direccion = direccion.replace(longest_zero_block, '::', 1)\n",
        "\n",
        "    return direccion\n",
        "\n",
        "def simplificar_ipv6(direccion):\n",
        "    \"\"\"\n",
        "    Recibe una dirección IPv6 en formato extendido y retorna la versión simplificada,\n",
        "    removiendo ceros a la izquierda y colapsando bloques consecutivos de \"0\".\n",
        "    \"\"\"\n",
        "    sin_ceros = remover_ceros_izquierda(direccion)\n",
        "    simplificada = colapsar_bloques_ceros(sin_ceros)\n",
        "    return simplificada"
      ]
    },
    {
      "cell_type": "markdown",
      "metadata": {
        "id": "MXsM7aSz_Br3"
      },
      "source": [
        "> **Explicación Regex `r'\\b0+([0-9a-fA-F]+)\\b'`:**  \n",
        "> Esta expresión regular se utiliza para remover los ceros a la izquierda en cada bloque de una dirección IPv6.  \n",
        "> - `\\b`: Asegura que la coincidencia comience en un límite de palabra.  \n",
        "> - `0+`: Coincide con uno o más ceros iniciales.  \n",
        "> - `([0-9a-fA-F]+)`: Captura uno o más caracteres hexadecimales (dígitos del 0 al 9 y letras de la a a la f, en minúsculas o mayúsculas) que siguen a los ceros.  \n",
        "> - `\\b`: Asegura el final de la coincidencia en un límite de palabra.  \n",
        "> El reemplazo con \\1 conserva únicamente los dígitos significativos, eliminando los ceros iniciales.\n",
        "\n",
        "> **Explicación Regex en colapsar bloques de ceros `(r'(?:^|:)0(?::0)+(?:$|:)')`:**  \n",
        "Esta expresión regular identifica la secuencia más larga de bloques \"0\" en la dirección IPv6 para colapsarlos en \"::\".  \n",
        "> - `(?:^|:)`: Coincide con el inicio de la cadena o con el carácter \":\"; establece el inicio de un bloque.  \n",
        "> - `0`: Coincide con un bloque \"0\".  \n",
        "> - `(?::0)+`: Busca uno o más bloques adicionales, cada uno precedido por \":\" y seguido por \"0\", es decir, detecta secuencias de \":0\".  \n",
        "> - `(?:$|:)`: Asegura que la secuencia concluya al final de la cadena o antes de otro separador \":\".  \n",
        "> Esta expresión permite identificar y reemplazar de forma única la secuencia continua más larga de ceros con \"::\"."
      ]
    },
    {
      "cell_type": "code",
      "execution_count": 11,
      "metadata": {
        "colab": {
          "base_uri": "https://localhost:8080/"
        },
        "id": "XKqjasgQ4WyH",
        "outputId": "d1c8b650-4bfd-4d4c-e53b-0234b29dbc34"
      },
      "outputs": [
        {
          "name": "stdout",
          "output_type": "stream",
          "text": [
            "\n",
            "Direcciones IPv6 simplificadas:\n",
            "Original: 2001:0db8:0000:0000:0000:ff00:0042:8329\n",
            "Sin ceros a la izq: 2001:db8:0:0:0:ff00:42:8329\n",
            "Simplificada: 2001:db8::ff00:42:8329\n",
            "\n",
            "Original: 2607:f0d0:1002:0051:0000:0000:0000:0004\n",
            "Sin ceros a la izq: 2607:f0d0:1002:51:0:0:0:4\n",
            "Simplificada: 2607:f0d0:1002:51::4\n",
            "\n"
          ]
        }
      ],
      "source": [
        "direcciones_ipv6 = [\n",
        "    \"2001:0db8:0000:0000:0000:ff00:0042:8329\",\n",
        "    \"2607:f0d0:1002:0051:0000:0000:0000:0004\"\n",
        "]\n",
        "\n",
        "print(\"\\nDirecciones IPv6 simplificadas:\")\n",
        "for direccion in direcciones_ipv6:\n",
        "    simplificada = simplificar_ipv6(direccion)\n",
        "    print(f\"Original: {direccion}\")\n",
        "    print(f\"Sin ceros a la izq: {remover_ceros_izquierda(direccion)}\")\n",
        "    print(f\"Simplificada: {simplificada}\\n\")"
      ]
    },
    {
      "cell_type": "markdown",
      "metadata": {},
      "source": [
        "## Discusión y Conclusiones\n",
        "\n",
        "En este notebook se implementó un flujo de trabajo para el procesamiento y análisis de datos textuales utilizando expresiones regulares. Se abordaron diversas tareas, entre las cuales destacan:\n",
        "\n",
        "- La lectura y separación de un archivo de transacciones a través de la función definida, permitiendo distinguir el encabezado de los registros de datos.\n",
        "- La aplicación de distintos patrones regex para extraer información específica:\n",
        "    - Identificar líneas donde se presenta la letra “r” seguida, en algún momento, de la “g”.\n",
        "    - Filtrar registros de comidas con costos mayores o iguales a 100.00.\n",
        "    - Seleccionar líneas que contengan secuencias específicas de caracteres (por ejemplo, ‘a’, ‘b’ y ‘c’ con restricciones entre ellos).\n",
        "    - Determinar líneas cuya descripción incluya tanto la letra “a” minúscula como un dígito.\n",
        "    - Buscar patrones con “d” seguido de “i”, considerando variaciones mayúsculas y minúsculas.\n",
        "    \n",
        "Asimismo, se trabajó con información de textos adicionales, como títulos de películas producidas antes de 2002, recetas que mencionan la palabra “chocolate” en diferentes variantes, y poblaciones por país, en los que se aplicaron técnicas de formateo (por ejemplo, la inserción de comas en números grandes).\n",
        "\n",
        "Por otro lado, se profundizó en la simplificación de direcciones IPv6 mediante la eliminación de ceros a la izquierda y el colapso de secuencias consecutivas de bloques ceros, lo que evidenció el uso de funciones especializadas y expresiones regulares complejas para obtener una representación concisa de direcciones extendidas.\n",
        "\n",
        "En conclusión, este notebook demuestra la efectividad del procesamiento de texto mediante expresiones regulares en Python, permitiendo extraer información relevante de registros no estructurados y reformatear datos de forma automática. La modularidad de las funciones desarrolladas y la claridad en la documentación respaldan la reproducibilidad de los resultados, facilitando su extensión a otros escenarios de procesamiento de información en contextos científicos y de ingeniería."
      ]
    }
  ],
  "metadata": {
    "colab": {
      "provenance": []
    },
    "kernelspec": {
      "display_name": "Python 3",
      "language": "python",
      "name": "python3"
    },
    "language_info": {
      "codemirror_mode": {
        "name": "ipython",
        "version": 3
      },
      "file_extension": ".py",
      "mimetype": "text/x-python",
      "name": "python",
      "nbconvert_exporter": "python",
      "pygments_lexer": "ipython3",
      "version": "3.9.14"
    }
  },
  "nbformat": 4,
  "nbformat_minor": 0
}
