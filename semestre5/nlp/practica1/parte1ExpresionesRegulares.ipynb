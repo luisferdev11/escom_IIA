{
 "cells": [
  {
   "cell_type": "markdown",
   "metadata": {},
   "source": [
    "# Practica 1\n",
    "**Tecnologías de Lenguaje Natural**\n",
    "\n",
    "*Luis Fernando Rodríguez Domínguez*\n",
    "\n",
    "5BV1\n",
    "\n",
    "*Ingeniería en Inteligencia Artificial*\n",
    "\n",
    "Fecha última de modificación: 12 de marzo del 2025"
   ]
  },
  {
   "cell_type": "markdown",
   "metadata": {},
   "source": [
    "## Parte 1. Expresiones Regulares\n",
    "\n",
    "Para las cadenas de texto incluidas en el Anexo “A”, y únicamente para los numerales siguientes 1 a 5, identificar las líneas que cumplan con los siguientes:"
   ]
  },
  {
   "cell_type": "code",
   "execution_count": 13,
   "metadata": {},
   "outputs": [
    {
     "name": "stdout",
     "output_type": "stream",
     "text": [
      "Encabezado: ID:Amount:Category:Date:Description\n",
      "Número de registros: 30\n"
     ]
    }
   ],
   "source": [
    "import re\n",
    "\n",
    "# Función para leer el contenido del archivo \"AnexoA.txt\"\n",
    "def leer_archivo(ruta):\n",
    "    \"\"\"\n",
    "    Lee un archivo de texto y retorna una lista de líneas.\n",
    "    Se asume que la primera línea es el encabezado.\n",
    "    \"\"\"\n",
    "    with open(ruta, 'r', encoding='utf-8') as file:\n",
    "        lineas = file.read().splitlines()\n",
    "    return lineas\n",
    "\n",
    "ruta_archivo = 'AnexoA.txt'\n",
    "lineas = leer_archivo(ruta_archivo)\n",
    "\n",
    "# Separamos el encabezado de las líneas de datos\n",
    "encabezado = lineas[0]\n",
    "datos = lineas[1:]\n",
    "print(\"Encabezado:\", encabezado)\n",
    "print(\"Número de registros:\", len(datos))"
   ]
  },
  {
   "cell_type": "markdown",
   "metadata": {},
   "source": [
    "### 1. Contengan una “r” seguida por una “g” (minúsculas). La “r” y la “g” no necesariamente tienen que estar en posiciones consecutivas. **(2 puntos)**."
   ]
  },
  {
   "cell_type": "code",
   "execution_count": 14,
   "metadata": {},
   "outputs": [
    {
     "name": "stdout",
     "output_type": "stream",
     "text": [
      "\n",
      "Punto 1: Líneas con 'r' seguida de 'g':\n",
      "4:383.75:travel:20170223:flight to Boston, to visit ABC Corp.\n",
      "5:55.00:travel:20170223:cab to ABC Corp. in Cambridge, MA\n",
      "6:23.25:meal:20170223:dinner at Logan Airport\n",
      "14:6.53:meal:20170302:Dunkin Donuts, drive to Big Inc. near DC\n",
      "17:86.00:travel:20170304:mileage, drive to/from Big Inc., Reston, VA\n",
      "19:378.81:travel:20170304:Hyatt Hotel, Reston VA, for Big Inc. meeting\n",
      "25:86.00:travel:20170317:mileage, drive to/from Big Inc., Reston, VA\n",
      "26:32.27:meal:20170317:lunch at Clyde's with Fred and Gina, Big Inc.\n"
     ]
    }
   ],
   "source": [
    "patron1 = re.compile(r\"r.*g\")  # Solo busca letras minúsculas\n",
    "\n",
    "resultado1 = [linea for linea in datos if patron1.search(linea)]\n",
    "print(\"\\nPunto 1: Líneas con 'r' seguida de 'g':\")\n",
    "for r in resultado1:\n",
    "    print(r)"
   ]
  },
  {
   "cell_type": "markdown",
   "metadata": {},
   "source": [
    "> **Explicación:**  \n",
    "> `re.compile` se utiliza para compilar una expresión regular en un objeto patrón, lo que permite reutilizar la expresión regular en múltiples búsquedas. `search` se usa para buscar el patrón en una cadena de texto y retorna un objeto Match si encuentra una coincidencia.\n",
    "----------"
   ]
  },
  {
   "cell_type": "markdown",
   "metadata": {},
   "source": [
    "### 2. Describan comidas que cuesten al menos 100.00. **(2 puntos)**."
   ]
  },
  {
   "cell_type": "code",
   "execution_count": 15,
   "metadata": {},
   "outputs": [
    {
     "name": "stdout",
     "output_type": "stream",
     "text": [
      "\n",
      "Punto 2: Comidas con costo >= 100.00:\n",
      "8:142.12:meal:20170226:host dinner with ABC clients, Al, Bob, Cy, Dave, Ellie\n",
      "15:127.23:meal:20170302:dinner, Tavern64\n"
     ]
    }
   ],
   "source": [
    "resultado2 = []\n",
    "for linea in datos:\n",
    "    partes = linea.split(':')\n",
    "    if len(partes) >= 5:\n",
    "        # Se extraen los campos: ID, Amount, Category, Date, Description\n",
    "        id_, monto, categoria, fecha, descripcion = partes\n",
    "        try:\n",
    "            if categoria.lower() == \"meal\" and float(monto) >= 100.00:\n",
    "                resultado2.append(linea)\n",
    "        except ValueError:\n",
    "            # En caso de que el monto no se pueda convertir a float\n",
    "            continue\n",
    "\n",
    "print(\"\\nPunto 2: Comidas con costo >= 100.00:\")\n",
    "for r in resultado2:\n",
    "    print(r)"
   ]
  },
  {
   "cell_type": "markdown",
   "metadata": {},
   "source": [
    "> **Explicación:**  \n",
    "> En este caso, se utiliza un bucle `for` para iterar sobre cada línea de datos. Cada línea se divide en partes utilizando el método `split(':')`. Luego, se verifica si la categoría es \"meal\" y si el monto es mayor o igual a 100.00. Si ambas condiciones se cumplen, la línea se agrega a la lista `resultado2`. Finalmente, se imprimen las líneas que cumplen con estas condiciones.\n",
    "----------"
   ]
  },
  {
   "cell_type": "markdown",
   "metadata": {},
   "source": [
    "### 3. Contengan una “a”, seguida por una “b”, seguida por una “c” (puede haber otros caracteres entre la “a” y la ”b” y entre la “b” y la ”c”; asimismo dichos caracteres pueden ser minúsculas o mayúsculas). En caso de existir caracteres entre las letras indicadas, dichos caracteres no pueden ser a ni b (entre la a y la b), ni b y c (entre la b y la c). Ejemplos de cadenas invalidas: “A apple, a banana”; “bad but beatiful car” **(2 puntos)**"
   ]
  },
  {
   "cell_type": "code",
   "execution_count": 16,
   "metadata": {},
   "outputs": [
    {
     "name": "stdout",
     "output_type": "stream",
     "text": [
      "\n",
      "Punto 3: Líneas que contengan 'a', luego 'b' y luego 'c' con las restricciones:\n",
      "2:79.81:meal:20170222:lunch with ABC Corp. clients Al, Bob, and Cy\n",
      "4:383.75:travel:20170223:flight to Boston, to visit ABC Corp.\n",
      "5:55.00:travel:20170223:cab to ABC Corp. in Cambridge, MA\n",
      "8:142.12:meal:20170226:host dinner with ABC clients, Al, Bob, Cy, Dave, Ellie\n",
      "14:6.53:meal:20170302:Dunkin Donuts, drive to Big Inc. near DC\n",
      "17:86.00:travel:20170304:mileage, drive to/from Big Inc., Reston, VA\n",
      "19:378.81:travel:20170304:Hyatt Hotel, Reston VA, for Big Inc. meeting\n",
      "25:86.00:travel:20170317:mileage, drive to/from Big Inc., Reston, VA\n",
      "26:32.27:meal:20170317:lunch at Clyde's with Fred and Gina, Big Inc.\n"
     ]
    }
   ],
   "source": [
    "patron3 = re.compile(r'a(?:(?![ab]).)*b(?:(?![bc]).)*c', re.IGNORECASE)\n",
    "\n",
    "resultado3 = [linea for linea in datos if patron3.search(linea)]\n",
    "print(\"\\nPunto 3: Líneas que contengan 'a', luego 'b' y luego 'c' con las restricciones:\")\n",
    "for r in resultado3:\n",
    "    print(r)"
   ]
  },
  {
   "cell_type": "markdown",
   "metadata": {},
   "source": [
    "> **Explicación:**\n",
    "> La expresión regular `a(?:(?![ab]).)*b(?:(?![bc]).)*c` se utiliza para buscar una 'a' seguida de una 'b' seguida de una 'c', con ciertas restricciones:\n",
    "\n",
    "> - `a`: Busca la letra 'a'.\n",
    "> - `(?:...)`: Es un grupo de no captura, utilizado para agrupar partes de la expresión sin crear una referencia de captura.\n",
    "> - `(?![ab])`: Es una afirmación de no coincidencia (negative lookahead), que asegura que lo que sigue no es ni 'a' ni 'b'.\n",
    "> - `.`: Coincide con cualquier carácter excepto nuevas líneas.\n",
    "> - `.*`: Coincide con cero o más repeticiones del patrón anterior (cualquier carácter excepto nuevas líneas).\n",
    "> - `b`: Busca la letra 'b'.\n",
    "> - `(?:(?![bc]).)*`: Similar al grupo anterior, asegura que entre 'b' y 'c' no haya ni 'b' ni 'c'.\n",
    "> - `c`: Busca la letra 'c'.\n",
    "\n",
    "> El modificador `re.IGNORECASE` permite que la búsqueda sea insensible a mayúsculas y minúsculas, es decir, no distingue entre 'a' y 'A', 'b' y 'B', 'c' y 'C'."
   ]
  },
  {
   "cell_type": "markdown",
   "metadata": {},
   "source": [
    "### 4. Contengan en la descripción de gastos una “a” minúscula y un digito entre 0 y 9 en cualquier orden. Es decir, el carácter “a” puede aparecer antes o después del digito. **(2 puntos)**"
   ]
  },
  {
   "cell_type": "code",
   "execution_count": 17,
   "metadata": {},
   "outputs": [
    {
     "name": "stdout",
     "output_type": "stream",
     "text": [
      "\n",
      "Punto 4: Líneas cuya descripción contenga una 'a' minúscula y un dígito:\n",
      "12:79.99:supply:20170227:spare 20\" monitor\n",
      "15:127.23:meal:20170302:dinner, Tavern64\n",
      "20:1247.49:supply:20170306:Dell 7000 laptop/workstation\n",
      "24:195.89:supply:20170309:black toner, HP 304A, 2-pack\n"
     ]
    }
   ],
   "source": [
    "resultado4 = []\n",
    "for linea in datos:\n",
    "    partes = linea.split(':')\n",
    "    if len(partes) >= 5:\n",
    "        descripcion = partes[4]\n",
    "        if re.search(r'a', descripcion) and re.search(r'\\d', descripcion):\n",
    "            resultado4.append(linea)\n",
    "\n",
    "print(\"\\nPunto 4: Líneas cuya descripción contenga una 'a' minúscula y un dígito:\")\n",
    "for r in resultado4:\n",
    "    print(r)"
   ]
  },
  {
   "cell_type": "markdown",
   "metadata": {},
   "source": [
    "### 5. Contengan el carácter “d”, posiblemente seguido de otros caracteres, seguido de una “i” (los caracteres “d”, e “i” pueden ser minúsculas o mayúsculas).\n",
    "*Coincidencias incluirían palabras tales como: diver, doily, drip, diplomat, etc. **(2 puntos)***"
   ]
  },
  {
   "cell_type": "code",
   "execution_count": 18,
   "metadata": {},
   "outputs": [
    {
     "name": "stdout",
     "output_type": "stream",
     "text": [
      "\n",
      "Punto 5: Líneas que contengan 'd' seguido de cualquier carácter y luego 'i':\n",
      "6:23.25:meal:20170223:dinner at Logan Airport\n",
      "8:142.12:meal:20170226:host dinner with ABC clients, Al, Bob, Cy, Dave, Ellie\n",
      "14:6.53:meal:20170302:Dunkin Donuts, drive to Big Inc. near DC\n",
      "15:127.23:meal:20170302:dinner, Tavern64\n",
      "16:33.07:meal:20170303:dinner, Uncle Julio's\n",
      "17:86.00:travel:20170304:mileage, drive to/from Big Inc., Reston, VA\n",
      "20:1247.49:supply:20170306:Dell 7000 laptop/workstation\n",
      "21:6.99:supply:20170306:HDMI cable\n",
      "22:212.06:util:20170308:Duquesne Light\n",
      "23:23.86:supply:20170309:Practical Guide to Quant Finance Interviews\n",
      "25:86.00:travel:20170317:mileage, drive to/from Big Inc., Reston, VA\n",
      "26:32.27:meal:20170317:lunch at Clyde's with Fred and Gina, Big Inc.\n"
     ]
    }
   ],
   "source": [
    "patron5 = re.compile(r'd.*i', re.IGNORECASE)\n",
    "\n",
    "resultado5 = [linea for linea in datos if patron5.search(linea)]\n",
    "print(\"\\nPunto 5: Líneas que contengan 'd' seguido de cualquier carácter y luego 'i':\")\n",
    "for r in resultado5:\n",
    "    print(r)"
   ]
  },
  {
   "cell_type": "markdown",
   "metadata": {},
   "source": [
    "> **Explicación**\n",
    ">La expresión regular `d.*i` se utiliza para buscar una 'd' seguida de cualquier carácter (incluyendo ninguno) y luego una 'i'. Aquí está la explicación detallada:\n",
    "\n",
    "> - `d`: Busca el carácter 'd'.\n",
    "> - `.`: Coincide con cualquier carácter excepto nuevas líneas.\n",
    "> - `*`: Es un cuantificador que coincide con cero o más repeticiones del patrón anterior (en este caso, cualquier carácter).\n",
    "> - `i`: Busca el carácter 'i'.\n",
    "\n",
    "> En conjunto, `d.*i` busca una 'd' seguida de cero o más caracteres (cualquiera) y luego una 'i'. El modificador `re.IGNORECASE` permite que la búsqueda sea insensible a mayúsculas y minúsculas, es decir, no distingue entre 'd' y 'D', 'i' y 'I'."
   ]
  },
  {
   "cell_type": "markdown",
   "metadata": {},
   "source": [
    "**A continuación, se describen ejercicios adicionales de expresiones regulares. Cabe\n",
    "señalar que cada uno de los siguientes ejercicios contienen el texto a analizar.**"
   ]
  },
  {
   "cell_type": "markdown",
   "metadata": {},
   "source": [
    "### 6. Identificar títulos de películas producidas antes de 2002. El año de producción es el encerrado en paréntesis. Para este ejercicio considere que las cadenas que representan los títulos incluyen los caracteres a-k, respectivamente, al inicio de la cadena. **(2 puntos)**"
   ]
  },
  {
   "cell_type": "code",
   "execution_count": 19,
   "metadata": {},
   "outputs": [
    {
     "name": "stdout",
     "output_type": "stream",
     "text": [
      "Películas producidas antes de 2002:\n",
      "a. The Shawshank Redemption (1994)\n",
      "b. The Godfather (1972)\n",
      "c. The Godfather: Part II (1974)\n",
      "d. 2001: A Space Odyssey (1968)\n",
      "e. The Good, the Bad and the Ugly (1966)\n",
      "f. Angry Men (1957)\n",
      "g. Schindler's List (1993)\n",
      "i. Fight Club (1999)\n",
      "j. 2010: The Year We Make Contact (1984)\n",
      "k. 101 Dalmatians (1996)\n"
     ]
    }
   ],
   "source": [
    "peliculas = [\n",
    "    \"a. The Shawshank Redemption (1994)\",\n",
    "    \"b. The Godfather (1972)\",\n",
    "    \"c. The Godfather: Part II (1974)\",\n",
    "    \"d. 2001: A Space Odyssey (1968)\",\n",
    "    \"e. The Good, the Bad and the Ugly (1966)\",\n",
    "    \"f. Angry Men (1957)\",\n",
    "    \"g. Schindler's List (1993)\",\n",
    "    \"h. The Lord of the Rings: The Return of the King (2003)\",\n",
    "    \"i. Fight Club (1999)\",\n",
    "    \"j. 2010: The Year We Make Contact (1984)\",\n",
    "    \"k. 101 Dalmatians (1996)\"\n",
    "]\n",
    "\n",
    "# Expresión regular para extraer el año encerrado entre paréntesis.\n",
    "# Se asume que el año es un número de 4 dígitos.\n",
    "patron_anio = re.compile(r'\\((\\d{4})\\)')\n",
    "\n",
    "peliculas_antes_2002 = []\n",
    "\n",
    "for pelicula in peliculas:\n",
    "    match = patron_anio.search(pelicula)\n",
    "    if match:\n",
    "        anio = int(match.group(1))\n",
    "        if anio < 2002:\n",
    "            peliculas_antes_2002.append(pelicula)\n",
    "\n",
    "print(\"Películas producidas antes de 2002:\")\n",
    "for p in peliculas_antes_2002:\n",
    "    print(p)"
   ]
  },
  {
   "cell_type": "markdown",
   "metadata": {},
   "source": [
    "> **Explicación:**\n",
    "> La expresión regular `\\((\\d{4})\\)` se utiliza para extraer el año de producción de las películas, que está encerrado entre paréntesis.\n",
    "\n",
    "> - `\\(`: Escapa el carácter `(` para buscar un paréntesis de apertura literal.\n",
    "> - `(\\d{4})`: Un grupo de captura que busca exactamente cuatro dígitos. \n",
    "> - `\\)`: Escapa el carácter `)` para buscar un paréntesis de cierre literal.\n",
    "\n",
    "> El método `group` se utiliza en el objeto `match` para extraer el contenido del grupo de captura. En este caso, `match.group(1)` retorna el año de producción de la película como una cadena de texto. Luego, convertimos esta cadena a un entero utilizando `int()` para poder comparar el año con 2002."
   ]
  },
  {
   "cell_type": "markdown",
   "metadata": {},
   "source": [
    "### 7. Identificar recetas que contengan la palabra 'chocolate' y cualquier variación de ella en términos de combinación entre minúsculas y mayúsculas, y también repetición de caracteres. Por ejemplo, una cadena válida puede ser:\n",
    "“ChOcoolATe. **(2 puntos)**"
   ]
  },
  {
   "cell_type": "code",
   "execution_count": 20,
   "metadata": {},
   "outputs": [
    {
     "name": "stdout",
     "output_type": "stream",
     "text": [
      "\n",
      "Recetas que contienen la palabra 'chocolate' (con variaciones):\n",
      "Cake 1: sugar, flour, cocoa powder, baking powder, baking soda, salt, eggs, milk, vegetable oil, vanilla extract, chocolATE chip.\n",
      "Cake 3: dark chocolate cake mix, instant CHOCOLATE pudding mix, sour cream, eggs, vegetable oil, coffee liqueur.\n",
      "Cake 5: gingersnap cookies, chopped pecans, butter, cream cheese, sugar, vanilla extract, eggs, canned pumpkin, cinnamon, CHOColate.\n",
      "Cake 6: flour, baking soda, sea salt, butter, white sugar, brown sugar, eggs, vanilla extract, Chooocolate chips, canola oil.\n"
     ]
    }
   ],
   "source": [
    "recetas = [\n",
    "    \"Cake 1: sugar, flour, cocoa powder, baking powder, baking soda, salt, eggs, milk, vegetable oil, vanilla extract, chocolATE chip.\",\n",
    "    \"Cake 2: cream cheese, sugar, vanilla extract, crescent rolls, cinnamon, butter, honey.\",\n",
    "    \"Cake 3: dark chocolate cake mix, instant CHOCOLATE pudding mix, sour cream, eggs, vegetable oil, coffee liqueur.\",\n",
    "    \"Cake 4: flour, baking powder, salt, cinnamon, butter, sugar, egg, vanilla extract, milk, chopped walnuts.\",\n",
    "    \"Cake 5: gingersnap cookies, chopped pecans, butter, cream cheese, sugar, vanilla extract, eggs, canned pumpkin, cinnamon, CHOColate.\",\n",
    "    \"Cake 6: flour, baking soda, sea salt, butter, white sugar, brown sugar, eggs, vanilla extract, Chooocolate chips, canola oil.\",\n",
    "    \"Cake 7: wafers, cream cheese, sugar, eggs, vanilla extract, cherry pie filling.\"\n",
    "]\n",
    "\n",
    "# Cada letra se repite al menos una vez y se ignoran mayúsculas y minúsculas\n",
    "patron_chocolate = re.compile(r'(?i)c+h+o+c+o+l+a+t+e+')\n",
    "\n",
    "recetas_con_chocolate = [receta for receta in recetas if patron_chocolate.search(receta)]\n",
    "\n",
    "print(\"\\nRecetas que contienen la palabra 'chocolate' (con variaciones):\")\n",
    "for receta in recetas_con_chocolate:\n",
    "    print(receta)\n"
   ]
  },
  {
   "cell_type": "markdown",
   "metadata": {},
   "source": [
    "> **Explicación:**\n",
    "> - `(?i)`: Este modificador hace que la búsqueda sea insensible a mayúsculas y minúsculas.\n",
    "> - `c+`: Busca una o más repeticiones del carácter 'c'.\n",
    "> - `h+`: Busca una o más repeticiones del carácter 'h'.\n",
    "> - `o+`: Busca una o más repeticiones del carácter 'o'.\n",
    "> - Lo mismo para las demás letras :v"
   ]
  },
  {
   "cell_type": "markdown",
   "metadata": {},
   "source": [
    "### 8. Insertar comas entre grupos de cada tres dígitos para las siguientes poblaciones por país. **(4 puntos)**"
   ]
  },
  {
   "cell_type": "code",
   "execution_count": null,
   "metadata": {},
   "outputs": [
    {
     "name": "stdout",
     "output_type": "stream",
     "text": [
      "Poblaciones con formato (con comas):\n",
      "China: 1,361,220,000\n",
      "India: 1,236,800,000\n",
      "United States: 317,121,000\n",
      "Indonesia: 237,641,326\n",
      "Brazil: 201,032,714\n",
      "Pakistan: 184,872,000\n",
      "Nigeria: 173,615,000\n",
      "Bangladesh: 152,518,015\n",
      "Russia: 143,600,000\n",
      "Japan: 2\n"
     ]
    }
   ],
   "source": [
    "poblaciones = [\n",
    "    \"China 1361220000\",\n",
    "    \"India 1236800000\",\n",
    "    \"United States 317121000\",\n",
    "    \"Indonesia 237641326\",\n",
    "    \"Brazil 201032714\",\n",
    "    \"Pakistan 184872000\",\n",
    "    \"Nigeria 173615000\",\n",
    "    \"Bangladesh 152518015\",\n",
    "    \"Russia 143600000\",\n",
    "]\n",
    "\n",
    "print(\"Poblaciones con formato (con comas):\")\n",
    "for linea in poblaciones:\n",
    "    patron = re.compile(r'(.+?)\\s+(\\d+)$')\n",
    "    match = patron.search(linea)\n",
    "    if match:\n",
    "        pais = match.group(1)\n",
    "        poblacion = int(match.group(2))\n",
    "        # Se formatea el número con comas\n",
    "        print(f\"{pais}: {poblacion:,}\")\n",
    "    else:\n",
    "        print(f\"No se pudo procesar la línea: {linea}\")"
   ]
  },
  {
   "cell_type": "markdown",
   "metadata": {},
   "source": [
    "> **Explicación**:\n",
    "> La expresión regular `(.+?)\\s+(\\d+)$` se utiliza para dividir una cadena en dos partes: el nombre del país y su población.\n",
    "\n",
    "> - `(.+?)`: Este es un grupo de captura que busca uno o más caracteres (excepto nuevas líneas) de manera no codiciosa. El `+` indica \"uno o más\" y el `?` hace que la búsqueda sea no codiciosa, es decir, que se detenga en la primera coincidencia posible.\n",
    "> - `\\s+`: Este operador busca uno o más espacios en blanco. El `\\s` coincide con cualquier espacio en blanco (espacio, tabulación, nueva línea, etc.) y el `+` indica \"uno o más\".\n",
    "> - `(\\d+)`: Este es otro grupo de captura que busca uno o más dígitos. El `\\d` coincide con cualquier dígito y el `+` indica \"uno o más\".\n",
    "> - `$`: Este operador indica el final de la cadena. Pues es ahí donde siempre se encontrará el tamaño de la población\n",
    "\n"
   ]
  },
  {
   "cell_type": "markdown",
   "metadata": {},
   "source": [
    "### 9. Simplificar direcciones IPv6. **(4 puntos)**"
   ]
  },
  {
   "cell_type": "code",
   "execution_count": 22,
   "metadata": {},
   "outputs": [],
   "source": [
    "def remover_ceros_izquierda(direccion):\n",
    "    \"\"\"\n",
    "    Recibe una dirección IPv6 extendida y remueve los ceros a la izquierda\n",
    "    de cada bloque. Si el resultado es una cadena vacía, se reemplaza por \"0\".\n",
    "    Retorna la dirección con los bloques procesados.\n",
    "    \"\"\"\n",
    "    bloques = direccion.split(\":\")\n",
    "    nuevos_bloques = []\n",
    "    for bloque in bloques:\n",
    "        # Remover ceros iniciales; si el bloque es todo ceros, se devuelve \"0\"\n",
    "        nuevo = bloque.lstrip(\"0\")\n",
    "        if nuevo == \"\":\n",
    "            nuevo = \"0\"\n",
    "        nuevos_bloques.append(nuevo)\n",
    "    return \":\".join(nuevos_bloques)\n",
    "\n",
    "def colapsar_bloques_ceros(direccion):\n",
    "    \"\"\"\n",
    "    Recibe una dirección IPv6 (con ceros ya removidos a la izquierda) y colapsa la\n",
    "    secuencia más larga de bloques que sean \"0\", reemplazándolos por \"::\".\n",
    "    Solo se realiza el colapso de la secuencia más larga para evitar ambigüedades.\n",
    "    \"\"\"\n",
    "    bloques = direccion.split(\":\")\n",
    "    mejor_inicio = -1\n",
    "    mejor_longitud = 0\n",
    "    inicio_actual = -1\n",
    "    longitud_actual = 0\n",
    "    \n",
    "    # Buscar la secuencia más larga de bloques \"0\"\n",
    "    for i, bloque in enumerate(bloques):\n",
    "        if bloque == \"0\":\n",
    "            if inicio_actual == -1:\n",
    "                inicio_actual = i\n",
    "                longitud_actual = 1\n",
    "            else:\n",
    "                longitud_actual += 1\n",
    "        else:\n",
    "            if longitud_actual > mejor_longitud:\n",
    "                mejor_longitud = longitud_actual\n",
    "                mejor_inicio = inicio_actual\n",
    "            inicio_actual = -1\n",
    "            longitud_actual = 0\n",
    "    # Revisa al final de la lista\n",
    "    if longitud_actual > mejor_longitud:\n",
    "        mejor_longitud = longitud_actual\n",
    "        mejor_inicio = inicio_actual\n",
    "\n",
    "    # Solo se colapsa si la secuencia es de al menos dos bloques\n",
    "    if mejor_longitud > 1:\n",
    "        nuevos_bloques = bloques[:mejor_inicio] + [\"\"] + bloques[mejor_inicio+mejor_longitud:]\n",
    "        # Si la secuencia está al inicio o final se deben ajustar los dos puntos\n",
    "        # Se unen los bloques y se reemplazan secuencias de tres o más puntos por \"::\"\n",
    "        direccion_colapsada = \":\".join(nuevos_bloques)\n",
    "        direccion_colapsada = re.sub(\":{3,}\", \"::\", direccion_colapsada)\n",
    "        # En caso de que la dirección comience o termine con un solo \":\", se agrega otro\n",
    "        if direccion_colapsada.startswith(\":\") and not direccion_colapsada.startswith(\"::\"):\n",
    "            direccion_colapsada = \":\" + direccion_colapsada\n",
    "        if direccion_colapsada.endswith(\":\") and not direccion_colapsada.endswith(\"::\"):\n",
    "            direccion_colapsada = direccion_colapsada + \":\"\n",
    "        return direccion_colapsada\n",
    "    else:\n",
    "        return direccion\n",
    "\n",
    "def simplificar_ipv6(direccion):\n",
    "    \"\"\"\n",
    "    Recibe una dirección IPv6 en formato extendido y retorna la versión simplificada,\n",
    "    removiendo ceros a la izquierda y colapsando bloques consecutivos de \"0\".\n",
    "    \"\"\"\n",
    "    sin_ceros = remover_ceros_izquierda(direccion)\n",
    "    simplificada = colapsar_bloques_ceros(sin_ceros)\n",
    "    return simplificada"
   ]
  },
  {
   "cell_type": "code",
   "execution_count": 23,
   "metadata": {},
   "outputs": [
    {
     "name": "stdout",
     "output_type": "stream",
     "text": [
      "\n",
      "Direcciones IPv6 simplificadas:\n",
      "Original: 2001:0db8:0000:0000:0000:ff00:0042:8329\n",
      "Sin ceros a la izq: 2001:db8:0:0:0:ff00:42:8329\n",
      "Simplificada: 2001:db8::ff00:42:8329\n",
      "\n",
      "Original: 2607:f0d0:1002:0051:0000:0000:0000:0004\n",
      "Sin ceros a la izq: 2607:f0d0:1002:51:0:0:0:4\n",
      "Simplificada: 2607:f0d0:1002:51::4\n",
      "\n"
     ]
    }
   ],
   "source": [
    "direcciones_ipv6 = [\n",
    "    \"2001:0db8:0000:0000:0000:ff00:0042:8329\",\n",
    "    \"2607:f0d0:1002:0051:0000:0000:0000:0004\"\n",
    "]\n",
    "\n",
    "print(\"\\nDirecciones IPv6 simplificadas:\")\n",
    "for direccion in direcciones_ipv6:\n",
    "    simplificada = simplificar_ipv6(direccion)\n",
    "    print(f\"Original: {direccion}\")\n",
    "    print(f\"Sin ceros a la izq: {remover_ceros_izquierda(direccion)}\")\n",
    "    print(f\"Simplificada: {simplificada}\\n\")"
   ]
  }
 ],
 "metadata": {
  "kernelspec": {
   "display_name": "Python 3",
   "language": "python",
   "name": "python3"
  },
  "language_info": {
   "codemirror_mode": {
    "name": "ipython",
    "version": 3
   },
   "file_extension": ".py",
   "mimetype": "text/x-python",
   "name": "python",
   "nbconvert_exporter": "python",
   "pygments_lexer": "ipython3",
   "version": "3.9.14"
  }
 },
 "nbformat": 4,
 "nbformat_minor": 2
}
